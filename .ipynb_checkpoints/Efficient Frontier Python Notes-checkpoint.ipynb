{
 "cells": [
  {
   "cell_type": "markdown",
   "id": "1ff0493c",
   "metadata": {},
   "source": [
    "First import relevant Python modules below:"
   ]
  },
  {
   "cell_type": "code",
   "execution_count": 1,
   "id": "1cca38f4",
   "metadata": {},
   "outputs": [],
   "source": [
    "import pandas_datareader.data as web\n",
    "import datetime\n",
    "from datetime import date\n",
    "import numpy as np\n",
    "import pandas as pd\n",
    "import matplotlib.pyplot as plt\n",
    "from scipy.optimize import minimize"
   ]
  },
  {
   "cell_type": "markdown",
   "id": "b2330192",
   "metadata": {},
   "source": [
    "Create start and end dates for data being imported"
   ]
  },
  {
   "cell_type": "code",
   "execution_count": 2,
   "id": "c77d6cc1",
   "metadata": {},
   "outputs": [],
   "source": [
    "start = datetime.datetime(2020, 12, 1)\n",
    "end = date.today()"
   ]
  },
  {
   "cell_type": "markdown",
   "id": "f6d4d86b",
   "metadata": {},
   "source": [
    "First we need to import data from an API. I chose yahoo finance as mine.\n",
    "Enter tickers in 'symbols' to build a optimized portfolio with:"
   ]
  },
  {
   "cell_type": "code",
   "execution_count": null,
   "id": "148af510",
   "metadata": {},
   "outputs": [],
   "source": [
    "symbols = ['TSLA', 'RBLX', 'GME', 'AMC', 'RTX']\n",
    "daily_stock_data = web.DataReader(symbols, 'yahoo', start, end)\n",
    "\n",
    "# Once the line below is uncommented the optimal volatility line stops showing up \"(plotted by plt.plot(volatility_opt, returns, '--')\")\n",
    "#daily_stock_data = web.get_data_yahoo(symbols,start,end,interval='w')\n",
    "\n",
    "print(daily_stock_data.head(-5).round(2))"
   ]
  },
  {
   "cell_type": "markdown",
   "id": "7dc2fa9f",
   "metadata": {},
   "source": [
    "Now we need to get the (daily) returns for each stock. To do this we take all the data from the column with closing price data and we divide each closing price in the column by the closing price immediately preceding it."
   ]
  },
  {
   "cell_type": "code",
   "execution_count": null,
   "id": "d994945a",
   "metadata": {},
   "outputs": [],
   "source": [
    "daily_returns = daily_stock_data['Close']/daily_stock_data['Close'].shift(1)\n",
    "print(daily_returns.round(2))"
   ]
  },
  {
   "cell_type": "markdown",
   "id": "5deaaf85",
   "metadata": {},
   "source": [
    "Using the daily_returns we can calculate the log return to give us a better idea of the return of each stock (since some stocks have higher/lower per share prices, we need log return to better analyze the stock."
   ]
  },
  {
   "cell_type": "code",
   "execution_count": null,
   "id": "8889001c",
   "metadata": {},
   "outputs": [],
   "source": [
    "log_returns = np.log(daily_returns)\n",
    "print(log_returns)"
   ]
  },
  {
   "cell_type": "markdown",
   "id": "335e723d",
   "metadata": {},
   "source": [
    "# The Sharpe Ratio"
   ]
  },
  {
   "cell_type": "markdown",
   "id": "96cf95cb",
   "metadata": {},
   "source": [
    "the Sharpe ratio measures the performance of an investment compared to a risk-free asset, after adjusting for its risk. It is defined as the difference between the returns of the investment and the risk-free return, divided by the standard deviation of the investment."
   ]
  },
  {
   "cell_type": "markdown",
   "id": "40c4280f",
   "metadata": {},
   "source": [
    "# Return vs Volatility Chart"
   ]
  },
  {
   "cell_type": "markdown",
   "id": "865f79e9",
   "metadata": {},
   "source": [
    "Generate almost all portfolios and plot them on a graph."
   ]
  },
  {
   "cell_type": "code",
   "execution_count": null,
   "id": "06ebcfd6",
   "metadata": {},
   "outputs": [],
   "source": [
    "# Come back later and replace '4' with 'len(symbols)'. Just remember you'll have to change 'bounds' and 'constraints' too.\n",
    "\n",
    "num_portfolios = 30000\n",
    "weight = np.zeros((num_portfolios, len(symbols)))\n",
    "expectedreturn = np.zeros(num_portfolios)\n",
    "expectedvolatility = np.zeros(num_portfolios)\n",
    "sharperatio = np.zeros(num_portfolios)\n",
    "\n",
    "mean_log_return = log_returns.mean()\n",
    "Sigma = log_returns.cov()\n",
    "for k in range(num_portfolios):\n",
    "    # Generate random weight vector\n",
    "    w = np.array(np.random.random(len(symbols)))\n",
    "    w = w / np.sum(w)\n",
    "    weight[k,:] = w\n",
    "    # Expected log return\n",
    "    expectedreturn[k] = np.sum(mean_log_return * w)\n",
    "    # Expected volatility\n",
    "    expectedvolatility[k] = np.sqrt(np.dot(w.T, np.dot(Sigma, w)))\n",
    "    # Sharpe Ratio\n",
    "    sharperatio[k] = expectedreturn[k]/expectedvolatility[k]\n",
    "    \n",
    "maxIndex = sharperatio.argmax()\n",
    "print(mean_log_return.round(5))"
   ]
  },
  {
   "cell_type": "code",
   "execution_count": null,
   "id": "3656cde2",
   "metadata": {},
   "outputs": [],
   "source": [
    "weight[maxIndex,:]"
   ]
  },
  {
   "cell_type": "markdown",
   "id": "29daed13",
   "metadata": {},
   "source": [
    "Now lets plot some graphs. First, create a figure"
   ]
  },
  {
   "cell_type": "markdown",
   "id": "9477664f",
   "metadata": {},
   "source": [
    "# Efficient Markowitz Frontier\n",
    "Now lets get the optimal portfolios using the vectors we calculated earlier ('expectedreturn', 'expectedvolatility', 'sharperatio'"
   ]
  },
  {
   "cell_type": "code",
   "execution_count": null,
   "id": "39b9bccc",
   "metadata": {},
   "outputs": [],
   "source": [
    "def negativeSR(w):\n",
    "    w = np.array(w)\n",
    "    R = np.sum(mean_log_return*w)\n",
    "    V = np.sqrt(np.dot(w.T, np.dot(Sigma, w)))\n",
    "    SR = R/V\n",
    "    return -1*SR\n",
    "\n",
    "def checkSumToOne(w):\n",
    "    return np.sum(w)-1\n",
    "\n",
    "#w0 = [0.20,0.20,0.20,0.20,0.20]\n",
    "w0 = [1/len(symbols)] * len(symbols)\n",
    "#bounds = ((0,1),(0,1),(0,1),(0,1),(0,1))\n",
    "bounds = ((0,1),) * len(symbols)\n",
    "constraints = ({'type':'eq', 'fun':checkSumToOne})\n",
    "w_opt = minimize(negativeSR,w0,method='SLSQP',bounds=bounds,constraints=constraints)\n",
    "w_opt"
   ]
  },
  {
   "cell_type": "code",
   "execution_count": null,
   "id": "a4dd0090",
   "metadata": {},
   "outputs": [],
   "source": [
    "symbols"
   ]
  },
  {
   "cell_type": "markdown",
   "id": "b5c04d8e",
   "metadata": {},
   "source": [
    "So, 'x' tells us our optimal weights and 'nit' tells us the number of iterations it took to get this answer. Notice that our answer for 'x' is very similar to the output for 'weight[maxIndex,:]'"
   ]
  },
  {
   "cell_type": "markdown",
   "id": "750a14e9",
   "metadata": {},
   "source": [
    "Now we're going to define a function to find us the portfolios with the lowest volatilities that still provide decent returns"
   ]
  },
  {
   "cell_type": "code",
   "execution_count": null,
   "id": "5bc13a96",
   "metadata": {},
   "outputs": [],
   "source": [
    "returns = np.linspace(0,0.01,50)\n",
    "volatility_opt = []\n",
    "def minimizeMyVolatility(w):\n",
    "    w = np.array(w)\n",
    "    V = np.sqrt(np.dot(w.T, np.dot(Sigma, w)))\n",
    "    return V\n",
    "def getReturn(w):\n",
    "    w = np.array(w)\n",
    "    R = np.sum(mean_log_return*w)\n",
    "    return R\n",
    "for R in returns:\n",
    "    # Find best volatilities\n",
    "    constraints = ({'type':'eq', 'fun':checkSumToOne}, {'type':'eq', 'fun': lambda w: getReturn(w) - R})\n",
    "    opt = minimize(minimizeMyVolatility,w0,method='SLSQP',bounds=bounds,constraints=constraints)\n",
    "    # Save my optimal volatility\n",
    "    volatility_opt.append(opt['fun'])"
   ]
  },
  {
   "cell_type": "code",
   "execution_count": null,
   "id": "dff25526",
   "metadata": {},
   "outputs": [],
   "source": [
    "plt.figure(figsize=(16, 16))\n",
    "plt.scatter(expectedvolatility, expectedreturn, c=sharperatio)  # 'c=sharperatio' passes in the color map ratios indexed by 'sharperatio'\n",
    "plt.xlabel('Expected Volatility')\n",
    "plt.ylabel('Expected Log Returns')\n",
    "plt.colorbar(label='Sharpe Ratio')\n",
    "plt.scatter(expectedvolatility[maxIndex], expectedreturn[maxIndex], c='red')\n",
    "plt.plot(volatility_opt, returns, '--')\n",
    "plt.show()"
   ]
  },
  {
   "cell_type": "code",
   "execution_count": null,
   "id": "47eabdd7",
   "metadata": {},
   "outputs": [],
   "source": []
  }
 ],
 "metadata": {
  "kernelspec": {
   "display_name": "Python 3",
   "language": "python",
   "name": "python3"
  },
  "language_info": {
   "codemirror_mode": {
    "name": "ipython",
    "version": 3
   },
   "file_extension": ".py",
   "mimetype": "text/x-python",
   "name": "python",
   "nbconvert_exporter": "python",
   "pygments_lexer": "ipython3",
   "version": "3.9.4"
  }
 },
 "nbformat": 4,
 "nbformat_minor": 5
}
